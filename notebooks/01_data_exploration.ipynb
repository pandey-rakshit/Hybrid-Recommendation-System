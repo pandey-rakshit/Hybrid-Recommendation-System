{
 "cells": [
  {
   "cell_type": "markdown",
   "id": "567f411b-a737-4572-b1ba-e8ddf95fa7a4",
   "metadata": {},
   "source": [
    "# 📌 Hybrid Recommendation System (Movies & Anime)"
   ]
  },
  {
   "cell_type": "markdown",
   "id": "47b99db1-4474-450e-a1ce-e11c599ad460",
   "metadata": {},
   "source": [
    "## **Unsupervised Clustering & Content-Based Approach**  "
   ]
  },
  {
   "cell_type": "markdown",
   "id": "7b431ed1-7cca-426c-aa8f-6c02d92c64c4",
   "metadata": {},
   "source": [
    "This project aims to build a **movie & anime recommendation system** using **unsupervised machine learning (clustering) and content-based filtering**.  \n"
   ]
  },
  {
   "cell_type": "markdown",
   "id": "06adc699-3dae-4849-bbb5-7b863062f1ae",
   "metadata": {},
   "source": [
    "**Key Objectives:**  \n",
    "\n",
    "- Cluster Netflix movies & anime based on features  \n",
    "- Use content similarity to recommend relevant titles  \n",
    "- Explore data to understand key patterns and trends  \n"
   ]
  },
  {
   "cell_type": "markdown",
   "id": "bdea3ce2-634a-4900-bb97-68b6750838b0",
   "metadata": {},
   "source": [
    "### 📖 Notebook Overview  "
   ]
  },
  {
   "cell_type": "markdown",
   "id": "345a7650-95bb-413a-be2e-403391cbdd51",
   "metadata": {},
   "source": [
    "\n",
    "This notebook focuses on **loading and exploring the dataset** to understand its structure, quality, and key characteristics.  \n"
   ]
  },
  {
   "cell_type": "markdown",
   "id": "a24b9bdf-6655-4448-a620-a63a697a9ad9",
   "metadata": {},
   "source": [
    "**What we are doing:**  "
   ]
  },
  {
   "cell_type": "markdown",
   "id": "569e56da-1c52-4620-a760-6f9ab709c077",
   "metadata": {},
   "source": [
    "✔ Loading Netflix and anime datasets \n",
    "✔ Performing an initial inspection (shape, columns, missing values)  \n",
    "✔ Generating summary statistics and sample data  "
   ]
  },
  {
   "cell_type": "markdown",
   "id": "ce4e8abe-fecb-47dd-ae4e-a58ade13ab03",
   "metadata": {},
   "source": [
    "**Why we are doing this:**  "
   ]
  },
  {
   "cell_type": "markdown",
   "id": "08953023-4aa4-4fd6-b836-c69c6ce3c23c",
   "metadata": {},
   "source": [
    "Understanding the dataset is crucial before feature engineering and modeling. We need to ensure data consistency and identify potential issues like missing values or incorrect formats.  "
   ]
  },
  {
   "cell_type": "markdown",
   "id": "0c9b7ffc-c5bd-4323-8af3-eb67a7ad2a23",
   "metadata": {},
   "source": [
    "**What we expect:**  "
   ]
  },
  {
   "cell_type": "markdown",
   "id": "cc20f4f0-dca9-420c-a31f-5b65af2e761e",
   "metadata": {},
   "source": [
    "By the end of this notebook, we should have:\n",
    "\n",
    "✔ A clear understanding of dataset structure\n",
    "✔ Insights into missing or inconsistent data  \n",
    "✔ A plan for preprocessing steps  \n"
   ]
  },
  {
   "cell_type": "code",
   "execution_count": null,
   "id": "dce5c187-b98f-4dc9-af93-194c5eaa1ce1",
   "metadata": {},
   "outputs": [],
   "source": []
  },
  {
   "cell_type": "markdown",
   "id": "0bb6e9a6-74e5-45d2-9862-ea9718d336a2",
   "metadata": {},
   "source": [
    "## 🛠 **Importing Libraries & Loading Data**"
   ]
  },
  {
   "cell_type": "code",
   "execution_count": 1,
   "id": "be0b4496-7d65-4ccf-a7ad-9c669808a8c9",
   "metadata": {},
   "outputs": [],
   "source": [
    "import sys\n",
    "import os"
   ]
  },
  {
   "cell_type": "code",
   "execution_count": 2,
   "id": "f01c24da-404f-4e99-bf72-66042a3715e3",
   "metadata": {},
   "outputs": [],
   "source": [
    "# Get absolute path to the project's root directory\n",
    "project_root = os.path.abspath(\"..\")\n",
    "\n",
    "# Add project root to sys.path (so src/ and utils/ are accessible)\n",
    "if project_root not in sys.path:\n",
    "    sys.path.append(project_root)"
   ]
  },
  {
   "cell_type": "code",
   "execution_count": 3,
   "id": "94c68325-c660-4a7d-b1d1-9275fd792171",
   "metadata": {},
   "outputs": [],
   "source": [
    "import pandas as pd\n",
    "import numpy as np\n",
    "import matplotlib.pyplot as plt\n",
    "import seaborn as sns"
   ]
  },
  {
   "cell_type": "code",
   "execution_count": 4,
   "id": "8ba482a9-5e15-49b1-9365-767fc4af8c97",
   "metadata": {
    "scrolled": true
   },
   "outputs": [],
   "source": [
    "from utils.config import MOVIES_PATH, ANIME_PATH\n",
    "from utils.data_analysis import analyze_dataset\n",
    "from src.data_preprocessing import create_dataframe\n",
    "from summaries.register_summaries import summary_factory"
   ]
  },
  {
   "cell_type": "code",
   "execution_count": 5,
   "id": "96a8ca18-3d28-4fb0-9120-3b01452aed6a",
   "metadata": {},
   "outputs": [],
   "source": [
    "pd.set_option('display.float_format', '{:,.2f}'.format)"
   ]
  },
  {
   "cell_type": "markdown",
   "id": "a7bdb7ad-0429-4df0-aad7-c22a1d21d770",
   "metadata": {},
   "source": [
    "### Load the Data"
   ]
  },
  {
   "cell_type": "code",
   "execution_count": 6,
   "id": "d3a3598c-d94a-4542-88dc-49c255eeb311",
   "metadata": {},
   "outputs": [],
   "source": [
    "# Load datasets\n",
    "movies_df = create_dataframe(MOVIES_PATH)\n",
    "anime_df = create_dataframe(ANIME_PATH)"
   ]
  },
  {
   "cell_type": "markdown",
   "id": "aa337e90-632c-41d8-bd6a-7346db2c8bf4",
   "metadata": {},
   "source": [
    "### First Look - Movies"
   ]
  },
  {
   "cell_type": "code",
   "execution_count": 7,
   "id": "a64d8906-e3aa-4bce-96cd-f18a85fa1da0",
   "metadata": {},
   "outputs": [],
   "source": [
    "result = analyze_dataset(movies_df, exclude_columns=['id'])"
   ]
  },
  {
   "cell_type": "code",
   "execution_count": 8,
   "id": "bf1ecfa5-8382-4846-9b9f-ad5281b867b3",
   "metadata": {},
   "outputs": [
    {
     "name": "stdout",
     "output_type": "stream",
     "text": [
      "The dataset contains 4803 rows and 20 columns.\n",
      "\n",
      "There are 3941 missing values across 5 columns.\n",
      "Missing values account for 4.10% of the dataset.\n",
      "Columns with missing values and their counts:\n",
      "  - homepage: 3091 missing values\n",
      "  - overview: 3 missing values\n",
      "  - release_date: 1 missing values\n",
      "  - runtime: 2 missing values\n",
      "  - tagline: 844 missing values\n",
      "\n",
      "There are no duplicate rows in the dataset.\n",
      "\n",
      "Data Types:\n",
      "\n",
      "              Column DataType\n",
      "              budget    int64\n",
      "              genres   object\n",
      "            homepage   object\n",
      "                  id    int64\n",
      "            keywords   object\n",
      "   original_language   object\n",
      "      original_title   object\n",
      "            overview   object\n",
      "          popularity  float64\n",
      "production_companies   object\n",
      "production_countries   object\n",
      "        release_date   object\n",
      "             revenue    int64\n",
      "             runtime  float64\n",
      "    spoken_languages   object\n",
      "              status   object\n",
      "             tagline   object\n",
      "               title   object\n",
      "        vote_average  float64\n",
      "          vote_count    int64\n",
      "\n",
      "Summary Statistics:\n",
      "                count          mean            std  min        25%           50%           75%              max\n",
      "budget       4,803.00 29,045,039.88  40,722,391.26 0.00 790,000.00 15,000,000.00 40,000,000.00   380,000,000.00\n",
      "popularity   4,803.00         21.49          31.82 0.00       4.67         12.92         28.31           875.58\n",
      "revenue      4,803.00 82,260,638.65 162,857,100.94 0.00       0.00 19,170,001.00 92,917,187.00 2,787,965,087.00\n",
      "runtime      4,801.00        106.88          22.61 0.00      94.00        103.00        118.00           338.00\n",
      "vote_average 4,803.00          6.09           1.19 0.00       5.60          6.20          6.80            10.00\n",
      "vote_count   4,803.00        690.22       1,234.59 0.00      54.00        235.00        737.00        13,752.00\n",
      "\n",
      "================================================================================\n",
      "\n",
      "Observations based on the dataset:\n",
      "\n",
      "  - budget: Right-skewed (mean > median).\n",
      "  - popularity: Right-skewed (mean > median).\n",
      "  - revenue: Right-skewed (mean > median).\n",
      "  - runtime: Right-skewed (mean > median).\n",
      "  - vote_average: Left-skewed (mean < median).\n",
      "  - vote_count: Right-skewed (mean > median).\n"
     ]
    }
   ],
   "source": [
    "print(summary_factory.generate_summary(\"overview\", result))\n",
    "print(\"\\n\" + \"=\"*80 + \"\\n\")\n",
    "print(summary_factory.generate_summary(\"observations\", result))"
   ]
  },
  {
   "cell_type": "markdown",
   "id": "cd475fec-c821-4daa-9b45-8ea5d2b81ede",
   "metadata": {},
   "source": [
    "### Handling Missing Values"
   ]
  },
  {
   "cell_type": "markdown",
   "id": "9ff038ec-0b64-490f-b2b2-0edb2f0d05d4",
   "metadata": {},
   "source": [
    "The dataset contains 4803 rows and 20 columns.\n",
    "\n",
    "There are 3941 missing values across 5 columns.\n",
    "\n",
    "  - homepage: 3091 missing values (64.35561107641058% of data is missing)\n",
    "  - overview: 3 missing values - \n",
    "  - release_date: 1 missing values\n",
    "  - runtime: 2 missing values\n",
    "  - tagline: 844 missing values"
   ]
  },
  {
   "cell_type": "code",
   "execution_count": 9,
   "id": "7c2fd296-2d53-44c0-b075-86cce2e19de8",
   "metadata": {},
   "outputs": [
    {
     "data": {
      "text/html": [
       "<div>\n",
       "<style scoped>\n",
       "    .dataframe tbody tr th:only-of-type {\n",
       "        vertical-align: middle;\n",
       "    }\n",
       "\n",
       "    .dataframe tbody tr th {\n",
       "        vertical-align: top;\n",
       "    }\n",
       "\n",
       "    .dataframe thead th {\n",
       "        text-align: right;\n",
       "    }\n",
       "</style>\n",
       "<table border=\"1\" class=\"dataframe\">\n",
       "  <thead>\n",
       "    <tr style=\"text-align: right;\">\n",
       "      <th></th>\n",
       "      <th>budget</th>\n",
       "      <th>genres</th>\n",
       "      <th>homepage</th>\n",
       "      <th>id</th>\n",
       "      <th>keywords</th>\n",
       "      <th>original_language</th>\n",
       "      <th>original_title</th>\n",
       "      <th>overview</th>\n",
       "      <th>popularity</th>\n",
       "      <th>production_companies</th>\n",
       "      <th>production_countries</th>\n",
       "      <th>release_date</th>\n",
       "      <th>revenue</th>\n",
       "      <th>runtime</th>\n",
       "      <th>spoken_languages</th>\n",
       "      <th>status</th>\n",
       "      <th>tagline</th>\n",
       "      <th>title</th>\n",
       "      <th>vote_average</th>\n",
       "      <th>vote_count</th>\n",
       "    </tr>\n",
       "  </thead>\n",
       "  <tbody>\n",
       "    <tr>\n",
       "      <th>4553</th>\n",
       "      <td>0</td>\n",
       "      <td>[]</td>\n",
       "      <td>NaN</td>\n",
       "      <td>380097</td>\n",
       "      <td>[]</td>\n",
       "      <td>en</td>\n",
       "      <td>America Is Still the Place</td>\n",
       "      <td>1971 post civil rights San Francisco seemed li...</td>\n",
       "      <td>0.00</td>\n",
       "      <td>[]</td>\n",
       "      <td>[]</td>\n",
       "      <td>NaN</td>\n",
       "      <td>0</td>\n",
       "      <td>0.00</td>\n",
       "      <td>[]</td>\n",
       "      <td>Released</td>\n",
       "      <td>NaN</td>\n",
       "      <td>America Is Still the Place</td>\n",
       "      <td>0.00</td>\n",
       "      <td>0</td>\n",
       "    </tr>\n",
       "  </tbody>\n",
       "</table>\n",
       "</div>"
      ],
      "text/plain": [
       "      budget genres homepage      id keywords original_language  \\\n",
       "4553       0     []      NaN  380097       []                en   \n",
       "\n",
       "                  original_title  \\\n",
       "4553  America Is Still the Place   \n",
       "\n",
       "                                               overview  popularity  \\\n",
       "4553  1971 post civil rights San Francisco seemed li...        0.00   \n",
       "\n",
       "     production_companies production_countries release_date  revenue  runtime  \\\n",
       "4553                   []                   []          NaN        0     0.00   \n",
       "\n",
       "     spoken_languages    status tagline                       title  \\\n",
       "4553               []  Released     NaN  America Is Still the Place   \n",
       "\n",
       "      vote_average  vote_count  \n",
       "4553          0.00           0  "
      ]
     },
     "execution_count": 9,
     "metadata": {},
     "output_type": "execute_result"
    }
   ],
   "source": [
    "movies_df[movies_df['release_date'].isna()]"
   ]
  },
  {
   "cell_type": "code",
   "execution_count": 10,
   "id": "ec00fb6e-e2bd-4464-b8f4-6b1c3f16b1b2",
   "metadata": {},
   "outputs": [],
   "source": [
    "movies_df = movies_df.dropna(subset=['release_date'])"
   ]
  },
  {
   "cell_type": "code",
   "execution_count": 11,
   "id": "95b54e62-7b28-47b2-baba-dd14c47a9d4b",
   "metadata": {},
   "outputs": [
    {
     "data": {
      "text/html": [
       "<div>\n",
       "<style scoped>\n",
       "    .dataframe tbody tr th:only-of-type {\n",
       "        vertical-align: middle;\n",
       "    }\n",
       "\n",
       "    .dataframe tbody tr th {\n",
       "        vertical-align: top;\n",
       "    }\n",
       "\n",
       "    .dataframe thead th {\n",
       "        text-align: right;\n",
       "    }\n",
       "</style>\n",
       "<table border=\"1\" class=\"dataframe\">\n",
       "  <thead>\n",
       "    <tr style=\"text-align: right;\">\n",
       "      <th></th>\n",
       "      <th>budget</th>\n",
       "      <th>genres</th>\n",
       "      <th>homepage</th>\n",
       "      <th>id</th>\n",
       "      <th>keywords</th>\n",
       "      <th>original_language</th>\n",
       "      <th>original_title</th>\n",
       "      <th>overview</th>\n",
       "      <th>popularity</th>\n",
       "      <th>production_companies</th>\n",
       "      <th>production_countries</th>\n",
       "      <th>release_date</th>\n",
       "      <th>revenue</th>\n",
       "      <th>runtime</th>\n",
       "      <th>spoken_languages</th>\n",
       "      <th>status</th>\n",
       "      <th>tagline</th>\n",
       "      <th>title</th>\n",
       "      <th>vote_average</th>\n",
       "      <th>vote_count</th>\n",
       "    </tr>\n",
       "  </thead>\n",
       "  <tbody>\n",
       "    <tr>\n",
       "      <th>2656</th>\n",
       "      <td>15000000</td>\n",
       "      <td>[{\"id\": 18, \"name\": \"Drama\"}]</td>\n",
       "      <td>NaN</td>\n",
       "      <td>370980</td>\n",
       "      <td>[{\"id\": 717, \"name\": \"pope\"}, {\"id\": 5565, \"na...</td>\n",
       "      <td>it</td>\n",
       "      <td>Chiamatemi Francesco - Il Papa della gente</td>\n",
       "      <td>NaN</td>\n",
       "      <td>0.74</td>\n",
       "      <td>[{\"name\": \"Taodue Film\", \"id\": 45724}]</td>\n",
       "      <td>[{\"iso_3166_1\": \"IT\", \"name\": \"Italy\"}]</td>\n",
       "      <td>2015-12-03</td>\n",
       "      <td>0</td>\n",
       "      <td>NaN</td>\n",
       "      <td>[{\"iso_639_1\": \"es\", \"name\": \"Espa\\u00f1ol\"}]</td>\n",
       "      <td>Released</td>\n",
       "      <td>NaN</td>\n",
       "      <td>Chiamatemi Francesco - Il Papa della gente</td>\n",
       "      <td>7.30</td>\n",
       "      <td>12</td>\n",
       "    </tr>\n",
       "    <tr>\n",
       "      <th>4140</th>\n",
       "      <td>2</td>\n",
       "      <td>[{\"id\": 99, \"name\": \"Documentary\"}]</td>\n",
       "      <td>NaN</td>\n",
       "      <td>459488</td>\n",
       "      <td>[{\"id\": 6027, \"name\": \"music\"}, {\"id\": 225822,...</td>\n",
       "      <td>en</td>\n",
       "      <td>To Be Frank, Sinatra at 100</td>\n",
       "      <td>NaN</td>\n",
       "      <td>0.05</td>\n",
       "      <td>[{\"name\": \"Eyeline Entertainment\", \"id\": 60343}]</td>\n",
       "      <td>[{\"iso_3166_1\": \"GB\", \"name\": \"United Kingdom\"}]</td>\n",
       "      <td>2015-12-12</td>\n",
       "      <td>0</td>\n",
       "      <td>NaN</td>\n",
       "      <td>[]</td>\n",
       "      <td>Released</td>\n",
       "      <td>NaN</td>\n",
       "      <td>To Be Frank, Sinatra at 100</td>\n",
       "      <td>0.00</td>\n",
       "      <td>0</td>\n",
       "    </tr>\n",
       "    <tr>\n",
       "      <th>4431</th>\n",
       "      <td>913000</td>\n",
       "      <td>[{\"id\": 99, \"name\": \"Documentary\"}]</td>\n",
       "      <td>NaN</td>\n",
       "      <td>292539</td>\n",
       "      <td>[]</td>\n",
       "      <td>de</td>\n",
       "      <td>Food Chains</td>\n",
       "      <td>NaN</td>\n",
       "      <td>0.80</td>\n",
       "      <td>[]</td>\n",
       "      <td>[]</td>\n",
       "      <td>2014-04-26</td>\n",
       "      <td>0</td>\n",
       "      <td>83.00</td>\n",
       "      <td>[{\"iso_639_1\": \"en\", \"name\": \"English\"}]</td>\n",
       "      <td>Released</td>\n",
       "      <td>NaN</td>\n",
       "      <td>Food Chains</td>\n",
       "      <td>7.40</td>\n",
       "      <td>8</td>\n",
       "    </tr>\n",
       "  </tbody>\n",
       "</table>\n",
       "</div>"
      ],
      "text/plain": [
       "        budget                               genres homepage      id  \\\n",
       "2656  15000000        [{\"id\": 18, \"name\": \"Drama\"}]      NaN  370980   \n",
       "4140         2  [{\"id\": 99, \"name\": \"Documentary\"}]      NaN  459488   \n",
       "4431    913000  [{\"id\": 99, \"name\": \"Documentary\"}]      NaN  292539   \n",
       "\n",
       "                                               keywords original_language  \\\n",
       "2656  [{\"id\": 717, \"name\": \"pope\"}, {\"id\": 5565, \"na...                it   \n",
       "4140  [{\"id\": 6027, \"name\": \"music\"}, {\"id\": 225822,...                en   \n",
       "4431                                                 []                de   \n",
       "\n",
       "                                  original_title overview  popularity  \\\n",
       "2656  Chiamatemi Francesco - Il Papa della gente      NaN        0.74   \n",
       "4140                 To Be Frank, Sinatra at 100      NaN        0.05   \n",
       "4431                                 Food Chains      NaN        0.80   \n",
       "\n",
       "                                  production_companies  \\\n",
       "2656            [{\"name\": \"Taodue Film\", \"id\": 45724}]   \n",
       "4140  [{\"name\": \"Eyeline Entertainment\", \"id\": 60343}]   \n",
       "4431                                                []   \n",
       "\n",
       "                                  production_countries release_date  revenue  \\\n",
       "2656           [{\"iso_3166_1\": \"IT\", \"name\": \"Italy\"}]   2015-12-03        0   \n",
       "4140  [{\"iso_3166_1\": \"GB\", \"name\": \"United Kingdom\"}]   2015-12-12        0   \n",
       "4431                                                []   2014-04-26        0   \n",
       "\n",
       "      runtime                               spoken_languages    status  \\\n",
       "2656      NaN  [{\"iso_639_1\": \"es\", \"name\": \"Espa\\u00f1ol\"}]  Released   \n",
       "4140      NaN                                             []  Released   \n",
       "4431    83.00       [{\"iso_639_1\": \"en\", \"name\": \"English\"}]  Released   \n",
       "\n",
       "     tagline                                       title  vote_average  \\\n",
       "2656     NaN  Chiamatemi Francesco - Il Papa della gente          7.30   \n",
       "4140     NaN                 To Be Frank, Sinatra at 100          0.00   \n",
       "4431     NaN                                 Food Chains          7.40   \n",
       "\n",
       "      vote_count  \n",
       "2656          12  \n",
       "4140           0  \n",
       "4431           8  "
      ]
     },
     "execution_count": 11,
     "metadata": {},
     "output_type": "execute_result"
    }
   ],
   "source": [
    "movies_df[movies_df['overview'].isna()]"
   ]
  },
  {
   "cell_type": "code",
   "execution_count": 12,
   "id": "4ae81dac-d8fd-44ac-a4af-405162ebad79",
   "metadata": {},
   "outputs": [
    {
     "data": {
      "text/html": [
       "<div>\n",
       "<style scoped>\n",
       "    .dataframe tbody tr th:only-of-type {\n",
       "        vertical-align: middle;\n",
       "    }\n",
       "\n",
       "    .dataframe tbody tr th {\n",
       "        vertical-align: top;\n",
       "    }\n",
       "\n",
       "    .dataframe thead th {\n",
       "        text-align: right;\n",
       "    }\n",
       "</style>\n",
       "<table border=\"1\" class=\"dataframe\">\n",
       "  <thead>\n",
       "    <tr style=\"text-align: right;\">\n",
       "      <th></th>\n",
       "      <th>budget</th>\n",
       "      <th>genres</th>\n",
       "      <th>homepage</th>\n",
       "      <th>id</th>\n",
       "      <th>keywords</th>\n",
       "      <th>original_language</th>\n",
       "      <th>original_title</th>\n",
       "      <th>overview</th>\n",
       "      <th>popularity</th>\n",
       "      <th>production_companies</th>\n",
       "      <th>production_countries</th>\n",
       "      <th>release_date</th>\n",
       "      <th>revenue</th>\n",
       "      <th>runtime</th>\n",
       "      <th>spoken_languages</th>\n",
       "      <th>status</th>\n",
       "      <th>tagline</th>\n",
       "      <th>title</th>\n",
       "      <th>vote_average</th>\n",
       "      <th>vote_count</th>\n",
       "    </tr>\n",
       "  </thead>\n",
       "  <tbody>\n",
       "    <tr>\n",
       "      <th>2656</th>\n",
       "      <td>15000000</td>\n",
       "      <td>[{\"id\": 18, \"name\": \"Drama\"}]</td>\n",
       "      <td>NaN</td>\n",
       "      <td>370980</td>\n",
       "      <td>[{\"id\": 717, \"name\": \"pope\"}, {\"id\": 5565, \"na...</td>\n",
       "      <td>it</td>\n",
       "      <td>Chiamatemi Francesco - Il Papa della gente</td>\n",
       "      <td>NaN</td>\n",
       "      <td>0.74</td>\n",
       "      <td>[{\"name\": \"Taodue Film\", \"id\": 45724}]</td>\n",
       "      <td>[{\"iso_3166_1\": \"IT\", \"name\": \"Italy\"}]</td>\n",
       "      <td>2015-12-03</td>\n",
       "      <td>0</td>\n",
       "      <td>NaN</td>\n",
       "      <td>[{\"iso_639_1\": \"es\", \"name\": \"Espa\\u00f1ol\"}]</td>\n",
       "      <td>Released</td>\n",
       "      <td>NaN</td>\n",
       "      <td>Chiamatemi Francesco - Il Papa della gente</td>\n",
       "      <td>7.30</td>\n",
       "      <td>12</td>\n",
       "    </tr>\n",
       "    <tr>\n",
       "      <th>4140</th>\n",
       "      <td>2</td>\n",
       "      <td>[{\"id\": 99, \"name\": \"Documentary\"}]</td>\n",
       "      <td>NaN</td>\n",
       "      <td>459488</td>\n",
       "      <td>[{\"id\": 6027, \"name\": \"music\"}, {\"id\": 225822,...</td>\n",
       "      <td>en</td>\n",
       "      <td>To Be Frank, Sinatra at 100</td>\n",
       "      <td>NaN</td>\n",
       "      <td>0.05</td>\n",
       "      <td>[{\"name\": \"Eyeline Entertainment\", \"id\": 60343}]</td>\n",
       "      <td>[{\"iso_3166_1\": \"GB\", \"name\": \"United Kingdom\"}]</td>\n",
       "      <td>2015-12-12</td>\n",
       "      <td>0</td>\n",
       "      <td>NaN</td>\n",
       "      <td>[]</td>\n",
       "      <td>Released</td>\n",
       "      <td>NaN</td>\n",
       "      <td>To Be Frank, Sinatra at 100</td>\n",
       "      <td>0.00</td>\n",
       "      <td>0</td>\n",
       "    </tr>\n",
       "  </tbody>\n",
       "</table>\n",
       "</div>"
      ],
      "text/plain": [
       "        budget                               genres homepage      id  \\\n",
       "2656  15000000        [{\"id\": 18, \"name\": \"Drama\"}]      NaN  370980   \n",
       "4140         2  [{\"id\": 99, \"name\": \"Documentary\"}]      NaN  459488   \n",
       "\n",
       "                                               keywords original_language  \\\n",
       "2656  [{\"id\": 717, \"name\": \"pope\"}, {\"id\": 5565, \"na...                it   \n",
       "4140  [{\"id\": 6027, \"name\": \"music\"}, {\"id\": 225822,...                en   \n",
       "\n",
       "                                  original_title overview  popularity  \\\n",
       "2656  Chiamatemi Francesco - Il Papa della gente      NaN        0.74   \n",
       "4140                 To Be Frank, Sinatra at 100      NaN        0.05   \n",
       "\n",
       "                                  production_companies  \\\n",
       "2656            [{\"name\": \"Taodue Film\", \"id\": 45724}]   \n",
       "4140  [{\"name\": \"Eyeline Entertainment\", \"id\": 60343}]   \n",
       "\n",
       "                                  production_countries release_date  revenue  \\\n",
       "2656           [{\"iso_3166_1\": \"IT\", \"name\": \"Italy\"}]   2015-12-03        0   \n",
       "4140  [{\"iso_3166_1\": \"GB\", \"name\": \"United Kingdom\"}]   2015-12-12        0   \n",
       "\n",
       "      runtime                               spoken_languages    status  \\\n",
       "2656      NaN  [{\"iso_639_1\": \"es\", \"name\": \"Espa\\u00f1ol\"}]  Released   \n",
       "4140      NaN                                             []  Released   \n",
       "\n",
       "     tagline                                       title  vote_average  \\\n",
       "2656     NaN  Chiamatemi Francesco - Il Papa della gente          7.30   \n",
       "4140     NaN                 To Be Frank, Sinatra at 100          0.00   \n",
       "\n",
       "      vote_count  \n",
       "2656          12  \n",
       "4140           0  "
      ]
     },
     "execution_count": 12,
     "metadata": {},
     "output_type": "execute_result"
    }
   ],
   "source": [
    "movies_df[movies_df['runtime'].isna()]"
   ]
  },
  {
   "cell_type": "code",
   "execution_count": 13,
   "id": "f91420a2-753c-4154-8057-473605218615",
   "metadata": {},
   "outputs": [],
   "source": [
    "movies_df.drop(columns=['homepage'], inplace=True)"
   ]
  },
  {
   "cell_type": "code",
   "execution_count": 14,
   "id": "8879176b-af1b-4b61-8ad3-eb8c17bdc9b5",
   "metadata": {},
   "outputs": [],
   "source": [
    "movies_df['tagline'].fillna('no tagline', inplace=True)"
   ]
  },
  {
   "cell_type": "code",
   "execution_count": 15,
   "id": "7917e9e7-6b60-4d0d-a252-0d2653ee1507",
   "metadata": {},
   "outputs": [],
   "source": [
    "movies_df.loc[2656, 'overview'] = \"On his path to becoming Pope Francis, Father Jorge Bergoglio pursues his religious vocation in a country ravaged by a brutal military dictatorship.\"\n",
    "movies_df.loc[4140, 'overview'] = \"An exploration of how singer and actor Frank Sinatra became one of the biggest stars of the 20th century while remaining, in his heart, a normal person.\"\n",
    "movies_df.loc[4431, 'overview'] = \"In America, farm labor has always been one of the most difficult, poorly paid jobs and has relied on some of the nation's most vulnerable people. While the legal restrictions that keep people bound to farms have been abolished, exploitation still exists. Ranging from wage theft to modern-day slavery, this exploitation is perpetuated by the corporations at the top of the food chain: supermarkets.\""
   ]
  },
  {
   "cell_type": "code",
   "execution_count": 16,
   "id": "9538898e-a0b5-4a41-a4ad-95601c7844b9",
   "metadata": {},
   "outputs": [],
   "source": [
    "movies_df.loc[2656, 'runtime'] = 113\n",
    "movies_df.loc[4140, 'runtime'] = 81"
   ]
  },
  {
   "cell_type": "code",
   "execution_count": 17,
   "id": "4498b1e4-9a96-4557-a331-0ac1bbfdbae3",
   "metadata": {},
   "outputs": [],
   "source": [
    "# Convert release_date to datetime and extract year\n",
    "movies_df['release_date'] = pd.to_datetime(movies_df['release_date'], errors='coerce')"
   ]
  },
  {
   "cell_type": "code",
   "execution_count": 18,
   "id": "9ece36b9-ceed-48ff-aa39-c610793a96fa",
   "metadata": {},
   "outputs": [],
   "source": [
    "movies_df['release_year'] = movies_df['release_date'].dt.year"
   ]
  },
  {
   "cell_type": "code",
   "execution_count": 19,
   "id": "2a3ba9aa-82af-4057-83a9-e214525f2ad1",
   "metadata": {},
   "outputs": [],
   "source": [
    "\n",
    "# Convert budget and revenue to millions for better readability\n",
    "movies_df['budget_million'] = movies_df['budget'] / 1e6\n",
    "movies_df['revenue_million'] = movies_df['revenue'] / 1e6\n"
   ]
  },
  {
   "cell_type": "code",
   "execution_count": 20,
   "id": "8dbb75fc-8e2b-469a-b7ae-0553efa8ce41",
   "metadata": {},
   "outputs": [],
   "source": [
    "def process_list_columns(column):\n",
    "    return movies_df[column].fillna('[]').apply(lambda x: [item['name'] for item in eval(x)] if isinstance(x, str) and x.startswith('[') else [])"
   ]
  },
  {
   "cell_type": "code",
   "execution_count": 21,
   "id": "847b3a31-3201-49e2-9ab4-10a60b5a5b68",
   "metadata": {},
   "outputs": [],
   "source": [
    "list_columns = ['genres', 'keywords', 'production_companies', 'production_countries']"
   ]
  },
  {
   "cell_type": "code",
   "execution_count": 22,
   "id": "01514953-a2f6-4b7f-a5cf-9b2c1825e3da",
   "metadata": {},
   "outputs": [],
   "source": [
    "for col in list_columns:\n",
    "    movies_df[col] = process_list_columns(col)"
   ]
  },
  {
   "cell_type": "code",
   "execution_count": 23,
   "id": "2a5ba923-4cda-49f6-b510-7f46770019de",
   "metadata": {},
   "outputs": [
    {
     "name": "stdout",
     "output_type": "stream",
     "text": [
      "budget_million 98.80000000000001 -58.00000000000001\n",
      "revenue_million 232.2979875 -139.3787925\n",
      "popularity 63.822440875000005 -30.818690125000003\n",
      "vote_average 8.6 3.7999999999999994\n"
     ]
    }
   ],
   "source": [
    "\n",
    "# Outlier detection using IQR method\n",
    "numeric_cols = ['budget_million', 'revenue_million', 'popularity', 'vote_average']\n",
    "for col in numeric_cols:\n",
    "    Q1 = movies_df[col].quantile(0.25)\n",
    "    Q3 = movies_df[col].quantile(0.75)\n",
    "    IQR = Q3 - Q1\n",
    "    upper_bound = Q3 + 1.5 * IQR\n",
    "    lower_bound = Q1 - 1.5 * IQR\n",
    "    print(col, upper_bound, lower_bound)"
   ]
  }
 ],
 "metadata": {
  "kernelspec": {
   "display_name": "Python(rex)",
   "language": "python",
   "name": "rex"
  },
  "language_info": {
   "codemirror_mode": {
    "name": "ipython",
    "version": 3
   },
   "file_extension": ".py",
   "mimetype": "text/x-python",
   "name": "python",
   "nbconvert_exporter": "python",
   "pygments_lexer": "ipython3",
   "version": "3.8.18"
  }
 },
 "nbformat": 4,
 "nbformat_minor": 5
}
